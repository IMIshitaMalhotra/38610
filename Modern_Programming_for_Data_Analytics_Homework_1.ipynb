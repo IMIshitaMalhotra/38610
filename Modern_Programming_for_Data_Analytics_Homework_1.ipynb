{
  "nbformat": 4,
  "nbformat_minor": 0,
  "metadata": {
    "colab": {
      "provenance": [],
      "include_colab_link": true
    },
    "kernelspec": {
      "name": "python3",
      "display_name": "Python 3"
    },
    "language_info": {
      "name": "python"
    }
  },
  "cells": [
    {
      "cell_type": "markdown",
      "metadata": {
        "id": "view-in-github",
        "colab_type": "text"
      },
      "source": [
        "<a href=\"https://colab.research.google.com/github/IMIshitaMalhotra/38610/blob/main/Modern_Programming_for_Data_Analytics_Homework_1.ipynb\" target=\"_parent\"><img src=\"https://colab.research.google.com/assets/colab-badge.svg\" alt=\"Open In Colab\"/></a>"
      ]
    },
    {
      "cell_type": "markdown",
      "source": [
        "# Modern Programming for Data Analytics\n",
        "Name: Ishita Malhotra\n",
        "\n",
        "Andrew ID: ishitam"
      ],
      "metadata": {
        "id": "q32gveKttS1e"
      }
    },
    {
      "cell_type": "markdown",
      "source": [
        "# Exercise - Using `pip` to install packages\n",
        "Install the package [cowsay](https://pypi.org/project/cowsay/) using `pip`.\n",
        "\n",
        "Read the package documentation and write the commands to print the following diagram\n",
        "\n",
        "```\n",
        "  _____________\n",
        "| Ghostbusters! |\n",
        "  =============\n",
        "                     \\\n",
        "                      \\\n",
        "                       \\\n",
        "                        \\\n",
        "                                    __---__\n",
        "                                 _-       /--______\n",
        "                            __--( /     \\ )XXXXXXXXXXX\\v.\n",
        "                          .-XXX(   O   O  )XXXXXXXXXXXXXXX-\n",
        "                         /XXX(       U     )        XXXXXXX\\\n",
        "                       /XXXXX(              )--_  XXXXXXXXXXX\\\n",
        "                      /XXXXX/ (      O     )   XXXXXX   \\XXXXX\\\n",
        "                      XXXXX/   /            XXXXXX   \\__ \\XXXXX\n",
        "                      XXXXXX__/          XXXXXX         \\__---->\n",
        "              ---___  XXX__/          XXXXXX      \\__         /\n",
        "                \\-  --__/   ___/\\  XXXXXX            /  ___--/=\n",
        "                 \\-\\    ___/    XXXXXX              '--- XXXXXX\n",
        "                    \\-\\/XXX\\ XXXXXX                      /XXXXX\n",
        "                      \\XXXXXXXXX   \\                    /XXXXX/\n",
        "                       \\XXXXXX      >                 _/XXXXX/\n",
        "                         \\XXXXX--__/              __-- XXXX/\n",
        "                          -XXXXXXXX---------------  XXXXXX-\n",
        "                             \\XXXXXXXXXXXXXXXXXXXXXXXXXX/\n",
        "                               \"\"VXXXXXXXXXXXXXXXXXXV\"\"\n",
        "```"
      ],
      "metadata": {
        "id": "rZpjQ6Yged6i"
      }
    },
    {
      "cell_type": "code",
      "execution_count": 32,
      "metadata": {
        "id": "TvbZcWBAedAf",
        "colab": {
          "base_uri": "https://localhost:8080/"
        },
        "outputId": "a63196c4-cb75-4b8b-806e-325c7ad52d73"
      },
      "outputs": [
        {
          "output_type": "stream",
          "name": "stdout",
          "text": [
            "Looking in indexes: https://pypi.org/simple, https://us-python.pkg.dev/colab-wheels/public/simple/\n",
            "Requirement already satisfied: cowsay in /usr/local/lib/python3.7/dist-packages (5.0)\n",
            "  ____________\n",
            "| Ghostbusters |\n",
            "  ============\n",
            "                    \\\n",
            "                     \\\n",
            "                      \\\n",
            "                       \\\n",
            "                                   __---__\n",
            "                                _-       /--______\n",
            "                           __--( /     \\ )XXXXXXXXXXX\\v.\n",
            "                         .-XXX(   O   O  )XXXXXXXXXXXXXXX-\n",
            "                        /XXX(       U     )        XXXXXXX\\\n",
            "                      /XXXXX(              )--_  XXXXXXXXXXX\\\n",
            "                     /XXXXX/ (      O     )   XXXXXX   \\XXXXX\\\n",
            "                     XXXXX/   /            XXXXXX   \\__ \\XXXXX\n",
            "                     XXXXXX__/          XXXXXX         \\__---->\n",
            "             ---___  XXX__/          XXXXXX      \\__         /\n",
            "               \\-  --__/   ___/\\  XXXXXX            /  ___--/=\n",
            "                \\-\\    ___/    XXXXXX              '--- XXXXXX\n",
            "                   \\-\\/XXX\\ XXXXXX                      /XXXXX\n",
            "                     \\XXXXXXXXX   \\                    /XXXXX/\n",
            "                      \\XXXXXX      >                 _/XXXXX/\n",
            "                        \\XXXXX--__/              __-- XXXX/\n",
            "                         -XXXXXXXX---------------  XXXXXX-\n",
            "                            \\XXXXXXXXXXXXXXXXXXXXXXXXXX/\n",
            "                              \"\"VXXXXXXXXXXXXXXXXXXV\"\"\n"
          ]
        }
      ],
      "source": [
        "! pip install cowsay\n",
        "import cowsay\n",
        "cowsay.ghostbusters(\"Ghostbusters\")"
      ]
    },
    {
      "cell_type": "markdown",
      "source": [
        "# Exercise - Faker\n",
        "[Faker](https://pypi.org/project/Faker/) is a Python package that generates fake data for you. Whether you need to bootstrap your database, create good-looking XML documents, fill-in your persistence to stress test it, or anonymize data taken from a production service, Faker is for you.\n",
        "\n",
        "The cell below defines the method `generate_fake_records` that generates fake data and stores the data in a dictionary named `team`."
      ],
      "metadata": {
        "id": "pOdGLNPGl9tK"
      }
    },
    {
      "cell_type": "code",
      "source": [
        "# DO NOT MODIFY THIS CELL\n",
        "\n",
        "!pip install faker\n",
        "import numpy as np\n",
        "from faker import Faker\n",
        "\n",
        "fake = Faker()\n",
        "\n",
        "def generate_fake_records( number_of_records ):\n",
        "  '''\n",
        "  Helper function that generates a fake team member record.\n",
        "\n",
        "  :param number_of_records: Number of records to generate\n",
        "  :type number_of_records: integer\n",
        "  :rtype: list of dictionaries\n",
        "  '''\n",
        "\n",
        "  status_list = ['Full Time', 'Part Time']\n",
        "  team_list = ['Data curator','Data wrangler', 'Data analyst','Project manager']\n",
        "  \n",
        "\n",
        "  data = [{'ID':x+1000,\n",
        "          'Name':fake.name(), \n",
        "          'Hire Date':fake.date_between(start_date='-25y', end_date='today'),\n",
        "          'Status':np.random.choice(status_list, p=[0.50, 0.50]),\n",
        "          'Role':np.random.choice(team_list)} for x in range(number_of_records)]\n",
        "      \n",
        "  return data\n",
        "\n",
        "team = generate_fake_records(number_of_records=25)"
      ],
      "metadata": {
        "id": "J_M23E-ul_y4",
        "colab": {
          "base_uri": "https://localhost:8080/"
        },
        "outputId": "8e556cc8-283d-4a80-d822-faf46332a043"
      },
      "execution_count": 33,
      "outputs": [
        {
          "output_type": "stream",
          "name": "stdout",
          "text": [
            "Looking in indexes: https://pypi.org/simple, https://us-python.pkg.dev/colab-wheels/public/simple/\n",
            "Requirement already satisfied: faker in /usr/local/lib/python3.7/dist-packages (14.2.0)\n",
            "Requirement already satisfied: typing-extensions>=3.7.4.3 in /usr/local/lib/python3.7/dist-packages (from faker) (4.1.1)\n",
            "Requirement already satisfied: python-dateutil>=2.4 in /usr/local/lib/python3.7/dist-packages (from faker) (2.8.2)\n",
            "Requirement already satisfied: six>=1.5 in /usr/local/lib/python3.7/dist-packages (from python-dateutil>=2.4->faker) (1.15.0)\n"
          ]
        }
      ]
    },
    {
      "cell_type": "markdown",
      "source": [
        "Tabulate pretty-prints tabular data in Python. It is a library and a command-line utility. Install the package [tabulate](https://pypi.org/project/tabulate/) using `pip`.\n",
        "\n",
        "Read the package documentation and write the necessary code to pretty print the dictionary `team` like the example below\n",
        "\n",
        "```\n",
        "|   ID | Name              | Hire Date   | Status    | Role            |\n",
        "|------|-------------------|-------------|-----------|-----------------|\n",
        "| 1000 | Linda Mcintyre    | 2015-05-21  | Part Time | Project manager |\n",
        "| 1001 | John Garner       | 2005-05-28  | Part Time | Data curator    |\n",
        "| 1002 | Sarah Hoover      | 2015-11-28  | Part Time | Data analyst    |\n",
        "| 1003 | Charles Flores    | 2003-11-16  | Part Time | Project manager |\n",
        "| 1004 | Todd Jones        | 2018-09-14  | Full Time | Data curator    |\n",
        "| 1005 | Kara Marks        | 2016-04-27  | Part Time | Data analyst    |\n",
        "| 1006 | Lee Smith         | 2002-02-07  | Part Time | Data analyst    |\n",
        "| 1007 | Douglas Johnson   | 2021-05-10  | Full Time | Data curator    |\n",
        "| 1008 | Jonathan Garcia   | 2015-07-28  | Full Time | Data wrangler   |\n",
        "| 1009 | William Hopkins   | 2009-02-23  | Part Time | Data analyst    |\n",
        "| 1010 | Candace Ellis     | 2005-09-12  | Full Time | Project manager |\n",
        "| 1011 | Edward Andersen   | 2017-01-25  | Full Time | Data wrangler   |\n",
        "| 1012 | Katie Stewart     | 2007-02-18  | Full Time | Data analyst    |\n",
        "| 1013 | Carolyn Mercado   | 2010-02-08  | Part Time | Data curator    |\n",
        "| 1014 | Heather Fowler    | 2014-10-16  | Part Time | Data wrangler   |\n",
        "| 1015 | Louis Miller      | 2015-10-25  | Part Time | Project manager |\n",
        "| 1016 | James Rojas       | 2013-05-19  | Full Time | Data analyst    |\n",
        "| 1017 | Richard Patterson | 2017-04-22  | Full Time | Data curator    |\n",
        "| 1018 | Joshua Ford       | 2013-06-08  | Part Time | Data analyst    |\n",
        "| 1019 | Katherine Warren  | 2005-02-08  | Part Time | Data curator    |\n",
        "| 1020 | Lawrence Reynolds | 2010-12-28  | Part Time | Project manager |\n",
        "| 1021 | Jay Patterson     | 2003-12-29  | Part Time | Data curator    |\n",
        "| 1022 | Mary Zimmerman    | 2019-03-15  | Full Time | Data curator    |\n",
        "| 1023 | Deanna Peterson   | 2016-03-16  | Part Time | Project manager |\n",
        "| 1024 | Shane Ellis       | 2020-03-14  | Full Time | Data analyst    |\n",
        "```"
      ],
      "metadata": {
        "id": "WWQRe-Wjl_63"
      }
    },
    {
      "cell_type": "code",
      "source": [
        "! pip install tabulate\n",
        "from tabulate import tabulate\n",
        "print(tabulate(team,tablefmt=\"github\",headers= 'keys'))"
      ],
      "metadata": {
        "id": "FAwdJ_TY4tzu",
        "colab": {
          "base_uri": "https://localhost:8080/"
        },
        "outputId": "db2d11c9-96af-4c94-8b06-5edfc97013c0"
      },
      "execution_count": 34,
      "outputs": [
        {
          "output_type": "stream",
          "name": "stdout",
          "text": [
            "Looking in indexes: https://pypi.org/simple, https://us-python.pkg.dev/colab-wheels/public/simple/\n",
            "Requirement already satisfied: tabulate in /usr/local/lib/python3.7/dist-packages (0.8.10)\n",
            "|   ID | Name               | Hire Date   | Status    | Role            |\n",
            "|------|--------------------|-------------|-----------|-----------------|\n",
            "| 1000 | Paul Carter        | 2014-07-26  | Full Time | Project manager |\n",
            "| 1001 | Jared Fernandez    | 2011-02-28  | Full Time | Data curator    |\n",
            "| 1002 | Timothy Edwards    | 2002-06-20  | Full Time | Data curator    |\n",
            "| 1003 | Molly Mccormick    | 2015-07-20  | Part Time | Data analyst    |\n",
            "| 1004 | Diana Pham         | 2017-09-15  | Part Time | Data analyst    |\n",
            "| 1005 | Christopher Castro | 2018-09-15  | Full Time | Data analyst    |\n",
            "| 1006 | Nathan Sanchez PhD | 2021-02-17  | Full Time | Data curator    |\n",
            "| 1007 | Rebecca Reynolds   | 2000-01-21  | Full Time | Data curator    |\n",
            "| 1008 | Edward Wright      | 1999-09-11  | Part Time | Project manager |\n",
            "| 1009 | Victoria Fleming   | 2014-02-15  | Part Time | Data wrangler   |\n",
            "| 1010 | Corey Browning     | 2002-12-16  | Full Time | Project manager |\n",
            "| 1011 | Andrew Stewart     | 2013-07-14  | Full Time | Project manager |\n",
            "| 1012 | Richard Moon       | 2019-08-04  | Full Time | Project manager |\n",
            "| 1013 | Mark Massey        | 2013-09-25  | Full Time | Data curator    |\n",
            "| 1014 | Charles Townsend   | 2007-11-17  | Full Time | Data wrangler   |\n",
            "| 1015 | Crystal Torres     | 2021-06-21  | Part Time | Data analyst    |\n",
            "| 1016 | Kimberly Moss      | 2003-04-14  | Full Time | Data curator    |\n",
            "| 1017 | William Moreno     | 2003-02-10  | Part Time | Data analyst    |\n",
            "| 1018 | Jordan Martin      | 2021-04-10  | Full Time | Project manager |\n",
            "| 1019 | Christine Price    | 2011-10-17  | Part Time | Data analyst    |\n",
            "| 1020 | Paul Walsh         | 2009-10-13  | Part Time | Data curator    |\n",
            "| 1021 | Mark Sweeney       | 2020-09-30  | Full Time | Data wrangler   |\n",
            "| 1022 | Gerald Baker       | 2020-09-28  | Full Time | Data analyst    |\n",
            "| 1023 | Tina Woods         | 2013-03-14  | Full Time | Data curator    |\n",
            "| 1024 | Kelli Ramsey       | 2000-12-26  | Full Time | Data curator    |\n"
          ]
        }
      ]
    },
    {
      "cell_type": "markdown",
      "source": [
        "# Exercise - Python Standard Library\n",
        "Use the [docstrings](https://realpython.com/documenting-python-code/) and the [assertions](https://realpython.com/python-assert-statement/) in the cell below as a guide to implement the method `get_n_elements`.\n"
      ],
      "metadata": {
        "id": "zluEy8OW4xED"
      }
    },
    {
      "cell_type": "code",
      "source": [
        "def get_n_elements( list, n=10 ):\n",
        "  '''\n",
        "  Helper method that returns the first n elements in a sorted list\n",
        "\n",
        "  :param list: list of integers\n",
        "  :type list: list\n",
        "  :param n: number of elements to return\n",
        "  :type n: integer\n",
        "  :rtype answer: sorted list of n elements\n",
        "  '''\n",
        "  return sorted(list)[0:n]\n",
        "\n",
        "# raise NotImplementedError()\n",
        "\n",
        "assert get_n_elements([1,2,3,4,5,6,7,8], 3) == [1,2,3]\n",
        "assert get_n_elements([8,7,6,5,4,3,2,1], 3) == [1,2,3]\n",
        "assert get_n_elements([8,7,6,5,4,3,2,1], 5) == [1,2,3,4,5]\n",
        "assert get_n_elements([8,7,6,5,4,3,2,1], 0) == []\n",
        "assert get_n_elements([8,7,6,5,4,3,2,1], -10) == []"
      ],
      "metadata": {
        "id": "M6oRvEfo4t1J"
      },
      "execution_count": 35,
      "outputs": []
    },
    {
      "cell_type": "markdown",
      "source": [
        "## Exercise - Python Standard Library\n",
        "Design an implement a method called `is_palindrome`. \n",
        "\n",
        "* Use only the standard libary.\n",
        "* This method takes an integer and returns True if the number is a [palindrome](https://en.wikipedia.org/wiki/Palindromic_number). False, otherwise.\n",
        "* If the input argument is not an integer, e.g. a string, then the method should return `None`.\n",
        "* Write docstrings for this method.\n",
        "* Write at least 4 assertions to test your method."
      ],
      "metadata": {
        "id": "zBqatJorqEwN"
      }
    },
    {
      "cell_type": "code",
      "source": [
        "def is_palindrome (num):\n",
        "  '''\n",
        "  Helper method that returns checks whether the input is integer or not and then whether integer is a palindrome or not\n",
        "\n",
        "  :param num: number\n",
        "  :type num: integer\n",
        "  :rtype answer: Boolean logic to check whether input is integer or not\n",
        "  '''\n",
        "  # Check the type of input number\n",
        "  if type(num)!=int:\n",
        "    return None\n",
        "\n",
        "  else:\n",
        "    rev = 0\n",
        "    #Assign the number to temp variable\n",
        "    temp = num\n",
        "\n",
        "    #Find Reverse of the number\n",
        "    while temp > 0:\n",
        "      rev = (rev*10) + (temp %10);\n",
        "      temp = temp//10\n",
        "    \n",
        "    if (num==rev):\n",
        "      return True\n",
        "\n",
        "    else:\n",
        "      return False\n",
        "\n",
        "assert is_palindrome(25)==False\n",
        "assert is_palindrome(\"Data Science\")==None\n",
        "assert is_palindrome(1331)==True\n",
        "assert is_palindrome(\"1331\")==None"
      ],
      "metadata": {
        "id": "2jr7TEcIqEEZ"
      },
      "execution_count": 36,
      "outputs": []
    },
    {
      "cell_type": "markdown",
      "source": [
        "# Exercise - SIR model\n",
        "The SIR model is a simple mathematical model of epidemics. The entities in this model stand for\n",
        "\n",
        "* (S)usceptible: inviduals that are not infected with the disease yet. However, they are not immune to it either, and so they can become infected with the disease in the future.\n",
        "* (I)nfected or infectious: individuals that are infected with the disease and can transmit the disease to susceptible people.\n",
        "* (R)ecovered: individuals who have recovered from the disease and are immune, so they can no longer be infected.\n",
        "\n",
        "In the most basic form, this model model can be represented as\n",
        "\n",
        "<img src=\"https://wikimedia.org/api/rest_v1/media/math/render/svg/c2a8fd2e93bfcf1092a44cfec7ef32c1a80a26f4\" />\n",
        "\n",
        "where \n",
        "\n",
        "* β is the average number of contacts per person per time\n",
        "* γ is the probability a contagious person becoming non-contagious\n",
        "* N is the population size (constant)\n",
        "\n",
        "Solve the system using the [`odeint`](https://docs.scipy.org/doc/scipy/tutorial/integrate.html) solver from scipy.\n",
        "\n",
        "Use these as your parameters for the solver\n",
        "\n",
        "* `beta = 0.2`\n",
        "* `gamma = 0.07`\n",
        "* `N = 100`\n",
        "* `S0 = 99`\n",
        "* `I = 1`\n",
        "* `R = 0`\n",
        "\n",
        "\n",
        "\n"
      ],
      "metadata": {
        "id": "fDxGQ4CC9uNw"
      }
    },
    {
      "cell_type": "code",
      "source": [
        "import numpy as np\n",
        "import matplotlib.pyplot as plt\n",
        "from scipy.integrate import odeint\n",
        "\n",
        "N = 100 # Population Size\n",
        "I = 1  # Number of infected individuals\n",
        "R = 0  # Number of recovered individuals\n",
        "S0 = 99 # Number of individuals susceptible to infection ( N - I - R)\n",
        "beta = 0.2 #average number of contacts per person per time\n",
        "gamma = 0.07 # probability a contagious person becoming non-contagious\n",
        "\n",
        "# Time points\n",
        "t = np.linspace(0, 200, 200, dtype=int)\n",
        "\n",
        "# The differential equation for SIR model\n",
        "def deriv(y, t, N, beta, gamma):\n",
        "    S, I, R = y\n",
        "    dSdt = -(beta * S0 * I) / N\n",
        "    dIdt = (beta * S0 * I / N) - (gamma * I)\n",
        "    dRdt = gamma * I\n",
        "    return dSdt, dIdt, dRdt\n",
        "\n",
        "# Initial conditions\n",
        "y0 = S0, I, R\n",
        "\n",
        "# Integrate the SIR equation over the time, t.\n",
        "result_ode = odeint(deriv, y0, t, args=(N, beta, gamma))\n",
        "S,I,R = result_ode.T"
      ],
      "metadata": {
        "id": "9JGRfnzwV4em"
      },
      "execution_count": 37,
      "outputs": []
    },
    {
      "cell_type": "markdown",
      "source": [
        "## Pretty print results\n",
        "Use [tabulate](https://pypi.org/project/tabulate/) to pretty print the first and the last 50 data points returned by the ODE solver. The table should have 4 columns: (t)ime, S, I and R."
      ],
      "metadata": {
        "id": "Xiw2SXsYV4xL"
      }
    },
    {
      "cell_type": "code",
      "source": [
        "from tabulate import tabulate\n",
        "print(tabulate({\"t\":t.tolist()[0:50]+t.tolist()[-50:],\n",
        "                \"S\":S.tolist()[0:50]+S.tolist()[-50:],\n",
        "                \"I\":I.tolist()[0:50]+I.tolist()[-50:],\n",
        "                \"R\":R.tolist()[0:50]+R.tolist()[-50:]},\n",
        "               tablefmt=\"github\",headers= 'keys'))"
      ],
      "metadata": {
        "id": "wbFTN6yjV731",
        "colab": {
          "base_uri": "https://localhost:8080/"
        },
        "outputId": "a52d9d37-4865-4a0e-aa70-b32d35353129"
      },
      "execution_count": 38,
      "outputs": [
        {
          "output_type": "stream",
          "name": "stdout",
          "text": [
            "|   t |              S |             I |             R |\n",
            "|-----|----------------|---------------|---------------|\n",
            "|   0 |   99           |   1           |   0           |\n",
            "|   1 |   98.7888      |   1.13655     |   0.0746774   |\n",
            "|   2 |   98.5487      |   1.29175     |   0.159552    |\n",
            "|   3 |   98.2758      |   1.46815     |   0.256017    |\n",
            "|   4 |   97.9657      |   1.66863     |   0.365654    |\n",
            "|   5 |   97.6133      |   1.89648     |   0.490263    |\n",
            "|   6 |   97.2127      |   2.15545     |   0.631887    |\n",
            "|   7 |   96.7574      |   2.44978     |   0.792851    |\n",
            "|   8 |   96.2399      |   2.78431     |   0.975794    |\n",
            "|   9 |   95.6518      |   3.16452     |   1.18372     |\n",
            "|  10 |   94.9833      |   3.59664     |   1.42004     |\n",
            "|  11 |   94.2236      |   4.08777     |   1.68863     |\n",
            "|  12 |   93.3601      |   4.64597     |   1.99389     |\n",
            "|  13 |   92.3788      |   5.28039     |   2.34084     |\n",
            "|  14 |   91.2634      |   6.00144     |   2.73516     |\n",
            "|  15 |   89.9957      |   6.82096     |   3.18334     |\n",
            "|  16 |   88.5549      |   7.75238     |   3.69271     |\n",
            "|  17 |   86.9174      |   8.81099     |   4.27164     |\n",
            "|  18 |   85.0562      |  10.0142      |   4.92962     |\n",
            "|  19 |   82.9409      |  11.3816      |   5.67745     |\n",
            "|  20 |   80.5368      |  12.9358      |   6.5274      |\n",
            "|  21 |   77.8043      |  14.7022      |   7.49341     |\n",
            "|  22 |   74.6988      |  16.7099      |   8.59134     |\n",
            "|  23 |   71.1691      |  18.9917      |   9.83919     |\n",
            "|  24 |   67.1575      |  21.585       |  11.2574      |\n",
            "|  25 |   62.5981      |  24.5325      |  12.8694      |\n",
            "|  26 |   57.4161      |  27.8825      |  14.7014      |\n",
            "|  27 |   51.5265      |  31.69        |  16.7836      |\n",
            "|  28 |   44.8326      |  36.0173      |  19.1501      |\n",
            "|  29 |   37.2246      |  40.9356      |  21.8398      |\n",
            "|  30 |   28.5778      |  46.5255      |  24.8967      |\n",
            "|  31 |   18.7502      |  52.8787      |  28.3711      |\n",
            "|  32 |    7.5806      |  60.0994      |  32.32        |\n",
            "|  33 |   -5.11423     |  68.3062      |  36.8081      |\n",
            "|  34 |  -19.5426      |  77.6336      |  41.909       |\n",
            "|  35 |  -35.9411      |  88.2347      |  47.7065      |\n",
            "|  36 |  -54.579       | 100.283       |  54.2956      |\n",
            "|  37 |  -75.7619      | 113.977       |  61.7845      |\n",
            "|  38 |  -99.8374      | 129.541       |  70.296       |\n",
            "|  39 | -127.2         | 147.231       |  79.9699      |\n",
            "|  40 | -158.3         | 167.335       |  90.9647      |\n",
            "|  41 | -193.646       | 190.186       | 103.461       |\n",
            "|  42 | -233.819       | 216.156       | 117.663       |\n",
            "|  43 | -279.478       | 245.673       | 133.805       |\n",
            "|  44 | -331.372       | 279.22        | 152.152       |\n",
            "|  45 | -390.351       | 317.348       | 173.003       |\n",
            "|  46 | -457.385       | 360.683       | 196.702       |\n",
            "|  47 | -533.572       | 409.936       | 223.637       |\n",
            "|  48 | -620.163       | 465.914       | 254.25        |\n",
            "|  49 | -718.578       | 529.535       | 289.043       |\n",
            "| 150 |   -3.37217e+08 |   2.17999e+08 |   1.19218e+08 |\n",
            "| 151 |   -3.83265e+08 |   2.47767e+08 |   1.35498e+08 |\n",
            "| 152 |   -4.35601e+08 |   2.81601e+08 |   1.54e+08    |\n",
            "| 153 |   -4.95083e+08 |   3.20054e+08 |   1.7503e+08  |\n",
            "| 154 |   -5.62689e+08 |   3.63758e+08 |   1.9893e+08  |\n",
            "| 155 |   -6.39525e+08 |   4.13431e+08 |   2.26095e+08 |\n",
            "| 156 |   -7.26854e+08 |   4.69886e+08 |   2.56969e+08 |\n",
            "| 157 |   -8.26109e+08 |   5.3405e+08  |   2.92059e+08 |\n",
            "| 158 |   -9.38916e+08 |   6.06976e+08 |   3.3194e+08  |\n",
            "| 159 |   -1.06713e+09 |   6.89861e+08 |   3.77268e+08 |\n",
            "| 160 |   -1.21285e+09 |   7.84063e+08 |   4.28785e+08 |\n",
            "| 161 |   -1.37847e+09 |   8.91129e+08 |   4.87336e+08 |\n",
            "| 162 |   -1.5667e+09  |   1.01282e+09 |   5.53884e+08 |\n",
            "| 163 |   -1.78064e+09 |   1.15112e+09 |   6.29518e+08 |\n",
            "| 164 |   -2.02379e+09 |   1.30831e+09 |   7.15481e+08 |\n",
            "| 165 |   -2.30014e+09 |   1.48696e+09 |   8.13182e+08 |\n",
            "| 166 |   -2.61423e+09 |   1.69001e+09 |   9.24224e+08 |\n",
            "| 167 |   -2.97122e+09 |   1.92079e+09 |   1.05043e+09 |\n",
            "| 168 |   -3.37694e+09 |   2.18307e+09 |   1.19387e+09 |\n",
            "| 169 |   -3.83808e+09 |   2.48118e+09 |   1.3569e+09  |\n",
            "| 170 |   -4.36218e+09 |   2.81999e+09 |   1.54218e+09 |\n",
            "| 171 |   -4.95784e+09 |   3.20507e+09 |   1.75277e+09 |\n",
            "| 172 |   -5.63485e+09 |   3.64273e+09 |   1.99212e+09 |\n",
            "| 173 |   -6.40431e+09 |   4.14016e+09 |   2.26415e+09 |\n",
            "| 174 |   -7.27884e+09 |   4.70551e+09 |   2.57333e+09 |\n",
            "| 175 |   -8.27278e+09 |   5.34806e+09 |   2.92472e+09 |\n",
            "| 176 |   -9.40246e+09 |   6.07836e+09 |   3.3241e+09  |\n",
            "| 177 |   -1.06864e+10 |   6.90837e+09 |   3.77802e+09 |\n",
            "| 178 |   -1.21457e+10 |   7.85173e+09 |   4.29392e+09 |\n",
            "| 179 |   -1.38042e+10 |   8.92391e+09 |   4.88026e+09 |\n",
            "| 180 |   -1.56892e+10 |   1.01425e+10 |   5.54668e+09 |\n",
            "| 181 |   -1.78316e+10 |   1.15275e+10 |   6.30409e+09 |\n",
            "| 182 |   -2.02665e+10 |   1.31016e+10 |   7.16494e+09 |\n",
            "| 183 |   -2.3034e+10  |   1.48907e+10 |   8.14333e+09 |\n",
            "| 184 |   -2.61794e+10 |   1.6924e+10  |   9.25533e+09 |\n",
            "| 185 |   -2.97542e+10 |   1.92351e+10 |   1.05192e+10 |\n",
            "| 186 |   -3.38173e+10 |   2.18617e+10 |   1.19556e+10 |\n",
            "| 187 |   -3.84351e+10 |   2.48469e+10 |   1.35882e+10 |\n",
            "| 188 |   -4.36835e+10 |   2.82399e+10 |   1.54437e+10 |\n",
            "| 189 |   -4.96486e+10 |   3.20961e+10 |   1.75526e+10 |\n",
            "| 190 |   -5.64283e+10 |   3.64789e+10 |   1.99494e+10 |\n",
            "| 191 |   -6.41338e+10 |   4.14602e+10 |   2.26736e+10 |\n",
            "| 192 |   -7.28914e+10 |   4.71217e+10 |   2.57697e+10 |\n",
            "| 193 |   -8.2845e+10  |   5.35564e+10 |   2.92886e+10 |\n",
            "| 194 |   -9.41577e+10 |   6.08696e+10 |   3.32881e+10 |\n",
            "| 195 |   -1.07015e+11 |   6.91816e+10 |   3.78337e+10 |\n",
            "| 196 |   -1.21628e+11 |   7.86285e+10 |   4.3e+10     |\n",
            "| 197 |   -1.38237e+11 |   8.93655e+10 |   4.88717e+10 |\n",
            "| 198 |   -1.57114e+11 |   1.01569e+11 |   5.55453e+10 |\n",
            "| 200 |   -2.02952e+11 |   1.31202e+11 |   7.17508e+10 |\n"
          ]
        }
      ]
    },
    {
      "cell_type": "markdown",
      "source": [
        "## Save variables to disk\n",
        "Use [pickle](https://docs.python.org/3/library/pickle.html) to serialize the variables `S`, `I`, `R` and `t`. Save the pickle file to the course folder in your Google Drive in a file named `sir.pkl`. \n",
        "\n",
        "Hint: for example, store the variables in a dictionary and then dump the dictionary to a pickle file."
      ],
      "metadata": {
        "id": "kshoCNsWV8Zz"
      }
    },
    {
      "cell_type": "code",
      "source": [
        "from google.colab import drive\n",
        "import pickle\n",
        "drive.mount('/content/drive')\n",
        "\n",
        "SIR_dict = {'S': S, 'I': I, 'R': R, 't': t}\n",
        "path = '/content/drive/MyDrive/38610/'\n",
        "\n",
        "with open(path + 'sir.pkl', 'wb') as handle:\n",
        "    pickle.dump(SIR_dict, handle, protocol=pickle.HIGHEST_PROTOCOL)"
      ],
      "metadata": {
        "id": "Fb7_lnNE55UY",
        "colab": {
          "base_uri": "https://localhost:8080/"
        },
        "outputId": "76a2eb72-2262-48d1-ec53-353f1e731f35"
      },
      "execution_count": 39,
      "outputs": [
        {
          "output_type": "stream",
          "name": "stdout",
          "text": [
            "Drive already mounted at /content/drive; to attempt to forcibly remount, call drive.mount(\"/content/drive\", force_remount=True).\n"
          ]
        }
      ]
    },
    {
      "cell_type": "markdown",
      "source": [
        "# Exercise - Matrix multiplication using `numpy`\n",
        "Design an implement a method called `can_be_multiplied`. \n",
        "\n",
        "* Use only the standard libary and `numpy`.\n",
        "* This method takes two Numpy arrays and returns True if these two matrices can be multiplied. False, otherwise.\n",
        "* Work on the assumption that if the input arguments are `a` and `b` (in that order), then the operation `a*b` will be checked by this method and not `b*a`.\n",
        "* If the input argument is not a Numpy array, then the method should return `None`.\n",
        "* Write docstrings for this method.\n",
        "* Write at least 4 assertions to test your method."
      ],
      "metadata": {
        "id": "y4Q5bs-4ujiw"
      }
    },
    {
      "cell_type": "code",
      "source": [
        "import numpy as np\n",
        "\n",
        "def can_be_multiplied(a,b):\n",
        "  \n",
        "  '''\n",
        "  Helper function that multiplies two matrices after validating input.\n",
        "\n",
        "  :param a: First Matrix\n",
        "  :type a: Numpy array\n",
        "  :param b: Second Matrix\n",
        "  :type b: Numpy array\n",
        "  :rtype: Boolean logic to check whether two matrices can be multiplied or not\n",
        "  '''\n",
        "\n",
        "  if isinstance(a, np.ndarray) == False or isinstance(b, np.ndarray) == False:\n",
        "    return None\n",
        "    \n",
        "  elif (a.shape[1])==(b.shape[0]):\n",
        "    return True\n",
        "\n",
        "  else:\n",
        "    return False\n",
        "\n",
        "assert can_be_multiplied(np.array([[9, 5], [7, 4]]),np.array([[9, 5], [1, 4]])) == True\n",
        "assert can_be_multiplied([[9, 5]], [[7]]) == None\n",
        "assert can_be_multiplied(np.array([[9, 5, 4]]), np.array([[7]])) == False\n",
        "assert can_be_multiplied(7,8) == None\n"
      ],
      "metadata": {
        "id": "aGKEp07vujpy"
      },
      "execution_count": 40,
      "outputs": []
    }
  ]
}